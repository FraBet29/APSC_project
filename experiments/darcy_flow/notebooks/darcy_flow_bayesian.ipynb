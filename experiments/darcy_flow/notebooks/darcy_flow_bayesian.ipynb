{
  "cells": [
    {
      "cell_type": "code",
      "execution_count": null,
      "metadata": {
        "id": "yVar9yFuxkIy"
      },
      "outputs": [],
      "source": [
        "# Colab setup\n",
        "\n",
        "# try:\n",
        "#     from dlroms import *\n",
        "# except:\n",
        "#     !pip install git+https://github.com/NicolaRFranco/dlroms.git\n",
        "#     from dlroms import *\n",
        "\n",
        "# TODO: install dlroms_bayesian"
      ]
    },
    {
      "cell_type": "code",
      "execution_count": 2,
      "metadata": {
        "id": "nhvP69_TxkI2"
      },
      "outputs": [],
      "source": [
        "import torch\n",
        "import numpy as np\n",
        "import os\n",
        "import matplotlib.pyplot as plt\n",
        "\n",
        "from dolfin import *\n",
        "from dlroms import *\n",
        "from dlroms.dnns import *\n",
        "\n",
        "from dlroms_bayesian.bayesian import Bayesian\n",
        "from dlroms_bayesian.svgd import SVGD\n",
        "from dlroms_bayesian.utils import *\n",
        "\n",
        "from IPython.display import clear_output as clc\n",
        "\n",
        "device = torch.device('cuda' if torch.cuda.is_available() else 'cpu')\n",
        "set_seeds(0)"
      ]
    },
    {
      "cell_type": "code",
      "execution_count": 3,
      "metadata": {
        "id": "_VF4fECixkI4"
      },
      "outputs": [],
      "source": [
        "# Domain and mesh definition\n",
        "\n",
        "domain = fe.rectangle((0.0, 0.0), (1.0, 1.0))\n",
        "mesh = fe.mesh(domain, stepsize=0.05)\n",
        "V = fe.space(mesh, 'CG', 1) # 441 dofs\n",
        "l2 = L2(V) # L2 norm\n",
        "\n",
        "if torch.cuda.is_available():\n",
        "\tl2.cuda()\n",
        "\n",
        "clc()"
      ]
    },
    {
      "cell_type": "code",
      "execution_count": 4,
      "metadata": {
        "id": "z_Gquv05xkI4"
      },
      "outputs": [],
      "source": [
        "# Load train and test data\n",
        "\n",
        "path_train = os.path.join(os.getcwd(), \"snapshots\", \"snapshots_train_C.npz\")\n",
        "data_train = np.load(path_train)\n",
        "\n",
        "N_train = data_train['K'].shape[0]\n",
        "K_train = torch.tensor(data_train['K'].astype(np.float32)).to(device)\n",
        "p_train = torch.tensor(data_train['p'].astype(np.float32)).to(device)\n",
        "u_x_train = torch.tensor(data_train['u_x'].astype(np.float32)).to(device)\n",
        "u_y_train = torch.tensor(data_train['u_y'].astype(np.float32)).to(device)\n",
        "\n",
        "path_test = os.path.join(os.getcwd(), \"snapshots\", \"snapshots_test_C.npz\")\n",
        "data_test = np.load(path_test)\n",
        "\n",
        "N_test = data_test['K'].shape[0]\n",
        "K_test = torch.tensor(data_test['K'].astype(np.float32)).to(device)\n",
        "p_test = torch.tensor(data_test['p'].astype(np.float32)).to(device)\n",
        "u_x_test = torch.tensor(data_test['u_x'].astype(np.float32)).to(device)\n",
        "u_y_test = torch.tensor(data_test['u_y'].astype(np.float32)).to(device)"
      ]
    },
    {
      "cell_type": "code",
      "execution_count": null,
      "metadata": {},
      "outputs": [],
      "source": [
        "# Model definition\n",
        "\n",
        "m = 16\n",
        "\n",
        "# Encoder\n",
        "psi = Reshape(1, 21, 21) + \\\n",
        "      Conv2D(6, (1, m), stride=1) + \\\n",
        "      Conv2D(7, (m, 2 * m), stride=1) + \\\n",
        "      Conv2D(7, (2 * m, 4 * m), stride=1, activation=None)\n",
        "\n",
        "# Decoder\n",
        "psi_prime = Deconv2D(7, (4 * m, 2 * m), stride=1) + \\\n",
        "            Deconv2D(7, (2 * m, m), stride=1) + \\\n",
        "            Deconv2D(6, (m, 1), stride=1, activation=None) + \\\n",
        "            Reshape(-1)\n",
        "\n",
        "print(\"Encoder trainable parameters:\", psi.dof())\n",
        "print(\"Decoder trainable parameters:\", psi_prime.dof())"
      ]
    },
    {
      "cell_type": "markdown",
      "metadata": {},
      "source": [
        "# Pressure Bayesian network"
      ]
    },
    {
      "cell_type": "code",
      "execution_count": 15,
      "metadata": {
        "colab": {
          "base_uri": "https://localhost:8080/",
          "height": 332
        },
        "id": "Ef0sEnOGxkJL",
        "outputId": "54e6ed74-e7ba-4624-d79c-4a7e2e046688"
      },
      "outputs": [],
      "source": [
        "# Bayesian network for pressure\n",
        "\n",
        "p_model = DFNN(psi, psi_prime)\n",
        "\n",
        "p_bayes = Bayesian(p_model)\n",
        "\n",
        "if torch.cuda.is_available():\n",
        "\tp_bayes.cuda()\n",
        "\n",
        "N_particles = 10\n",
        "\n",
        "p_trainer = SVGD(p_bayes, n_samples=N_particles)\n",
        "p_trainer.He()\n",
        "p_bayes.set_trainer(p_trainer)\n",
        "\n",
        "# p_bayes.train(K_train, p_train, ntrain=N_train, lr=1e-3, lr_noise=1e-3, loss=mse(l2), epochs=5000)\n",
        "history = p_bayes.train(K_train, p_train, ntrain=N_train, lr=1e-3, lr_noise=1e-3, loss=mse(l2), epochs=5000, track_history=True)"
      ]
    },
    {
      "cell_type": "code",
      "execution_count": 10,
      "metadata": {
        "id": "zCgdsaiLxkJT"
      },
      "outputs": [],
      "source": [
        "# Compute mean and variance of predictions\n",
        "\n",
        "p_pred_bayes_mean_train, p_pred_bayes_var_train = p_bayes.sample(K_train, n_samples=N_particles)\n",
        "p_pred_bayes_mean, p_pred_bayes_var = p_bayes.sample(K_test, n_samples=N_particles)"
      ]
    },
    {
      "cell_type": "code",
      "execution_count": null,
      "metadata": {
        "id": "PhI3Z-2kxkJT",
        "outputId": "61921f9c-af97-4d02-eeaf-4ffafb3a2b51"
      },
      "outputs": [],
      "source": [
        "# Compute relative error\n",
        "\n",
        "error_train = mre(l2)(p_train, p_pred_bayes_mean_train)\n",
        "error_test = mre(l2)(p_test, p_pred_bayes_mean)\n",
        "\n",
        "print(f\"Relative training error: {100 * torch.mean(error_train):.2f}\")\n",
        "print(f\"Relative test error: {100 * torch.mean(error_test):.2f}\")"
      ]
    },
    {
      "cell_type": "code",
      "execution_count": null,
      "metadata": {
        "id": "6Gm0XlB3xkJT",
        "outputId": "01765f2e-4467-485f-c5fc-aa92c82cade5"
      },
      "outputs": [],
      "source": [
        "# Plot a random snapshot\n",
        "\n",
        "idx = 50\n",
        "\n",
        "plt.figure(figsize=(12, 4))\n",
        "plt.subplot(1, 3, 1)\n",
        "vmin, vmax = torch.min(p_test), torch.max(p_test)\n",
        "fe.plot(p_test[idx], V, cmap='jet', vmin=vmin, vmax=vmax, colorbar=True)\n",
        "plt.title(\"True pressure\")\n",
        "plt.subplot(1, 3, 2)\n",
        "fe.plot(p_pred_bayes_mean[idx], V, cmap='jet', vmin=vmin, vmax=vmax, colorbar=True)\n",
        "plt.title(\"Predicted mean pressure\")\n",
        "plt.subplot(1, 3, 3)\n",
        "fe.plot(p_pred_bayes_var[idx], V, cmap='jet', vmin=vmin, vmax=vmax, colorbar=True)\n",
        "plt.title(\"Pressure variance\")\n",
        "plt.show()"
      ]
    },
    {
      "cell_type": "code",
      "execution_count": null,
      "metadata": {
        "id": "1Qwh1BificQP"
      },
      "outputs": [],
      "source": [
        "# Save trainer state\n",
        "\n",
        "p_trainer.save_particles(os.path.join('checkpoints', 'p_particles.pth'))"
      ]
    },
    {
      "cell_type": "code",
      "execution_count": null,
      "metadata": {},
      "outputs": [],
      "source": [
        "# Save training history\n",
        "\n",
        "import pickle\n",
        "\n",
        "with open('history.pkl', 'wb') as f:\n",
        "    pickle.dump(history, f)"
      ]
    },
    {
      "cell_type": "markdown",
      "metadata": {},
      "source": [
        "# Velocity Bayesian network (x-component)"
      ]
    },
    {
      "cell_type": "code",
      "execution_count": null,
      "metadata": {},
      "outputs": [],
      "source": [
        "# Bayesian network for velocity (x-component)\n",
        "\n",
        "u_x_model = DFNN(psi, psi_prime)\n",
        "\n",
        "u_x_bayes = Bayesian(u_x_model)\n",
        "\n",
        "if torch.cuda.is_available():\n",
        "\tu_x_bayes.cuda()\n",
        "\n",
        "u_x_trainer = SVGD(u_x_bayes, n_samples=N_particles)\n",
        "u_x_trainer.He()\n",
        "u_x_bayes.set_trainer(u_x_trainer)\n",
        "\n",
        "u_x_bayes.train(K_train, u_x_train, ntrain=N_train, lr=1e-3, lr_noise=1e-3, loss=mse(l2), epochs=5000)"
      ]
    },
    {
      "cell_type": "code",
      "execution_count": null,
      "metadata": {},
      "outputs": [],
      "source": [
        "# Compute mean and variance of predictions\n",
        "\n",
        "u_x_pred_bayes_mean_train, u_x_pred_bayes_var_train = u_x_bayes.sample(K_train, n_samples=N_particles)\n",
        "u_x_pred_bayes_mean, u_x_pred_bayes_var = u_x_bayes.sample(K_test, n_samples=N_particles)"
      ]
    },
    {
      "cell_type": "code",
      "execution_count": null,
      "metadata": {
        "id": "cIlerfOjibt1"
      },
      "outputs": [],
      "source": [
        "# Compute relative error\n",
        "\n",
        "error_train = mre(l2)(u_x_train, u_x_pred_bayes_mean_train)\n",
        "error_test = mre(l2)(u_x_test, u_x_pred_bayes_mean)\n",
        "\n",
        "print(f\"Relative training error: {100 * torch.mean(error_train):.2f}\")\n",
        "print(f\"Relative test error: {100 * torch.mean(error_test):.2f}\")"
      ]
    },
    {
      "cell_type": "code",
      "execution_count": null,
      "metadata": {},
      "outputs": [],
      "source": [
        "# Plot a random snapshot\n",
        "\n",
        "idx = 50\n",
        "\n",
        "plt.figure(figsize=(18, 6))\n",
        "vmin, vmax = torch.min(u_x_test), torch.max(u_x_test)\n",
        "plt.subplot(1, 3, 1)\n",
        "fe.plot(u_x_test[idx], V, cmap='jet', vmin=vmin, vmax=vmax, colorbar=True)\n",
        "plt.title(\"True velocity (x-comp.)\")\n",
        "plt.subplot(1, 3, 2)\n",
        "fe.plot(u_x_pred_bayes_mean[idx], V, cmap='jet', vmin=vmin, vmax=vmax, colorbar=True)\n",
        "plt.title(\"Predicted mean velocity (x-comp.)\")\n",
        "plt.subplot(1, 3, 3)\n",
        "fe.plot(u_x_pred_bayes_var[idx], V, cmap='jet', vmin=vmin, vmax=vmax, colorbar=True)\n",
        "plt.title(\"Velocity variance (x-comp.)\")\n",
        "plt.show()"
      ]
    },
    {
      "cell_type": "code",
      "execution_count": null,
      "metadata": {},
      "outputs": [],
      "source": [
        "# Save trainer state\n",
        "\n",
        "u_x_trainer.save_particles(os.path.join('checkpoints', 'u_x_particles.pth'))"
      ]
    },
    {
      "cell_type": "markdown",
      "metadata": {},
      "source": [
        "# Velocity Bayesian network (y-component)"
      ]
    },
    {
      "cell_type": "code",
      "execution_count": null,
      "metadata": {},
      "outputs": [],
      "source": [
        "# Bayesian network for velocity (y-component)\n",
        "\n",
        "u_y_model = DFNN(psi, psi_prime)\n",
        "\n",
        "u_y_bayes = Bayesian(u_y_model)\n",
        "\n",
        "if torch.cuda.is_available():\n",
        "\tu_y_bayes.cuda()\n",
        "\n",
        "u_y_trainer = SVGD(u_y_bayes, n_samples=N_particles)\n",
        "u_y_trainer.He()\n",
        "u_y_bayes.set_trainer(u_y_trainer)\n",
        "\n",
        "u_y_bayes.train(K_train, u_y_train, ntrain=int(0.9*N_train), lr=1e-3, lr_noise=1e-3, loss=mse(l2), epochs=5000)"
      ]
    },
    {
      "cell_type": "code",
      "execution_count": null,
      "metadata": {},
      "outputs": [],
      "source": [
        "# Compute mean and variance of predictions\n",
        "\n",
        "u_y_pred_bayes_mean_train, u_y_pred_bayes_var_train = u_y_bayes.sample(K_train, n_samples=N_particles)\n",
        "u_y_pred_bayes_mean, u_y_pred_bayes_var = u_y_bayes.sample(K_test, n_samples=N_particles)"
      ]
    },
    {
      "cell_type": "code",
      "execution_count": null,
      "metadata": {
        "id": "heYewAG1ibiA"
      },
      "outputs": [],
      "source": [
        "# Compute relative error\n",
        "\n",
        "error_train = mre(l2)(u_y_train, u_y_pred_bayes_mean_train)\n",
        "error_test = mre(l2)(u_y_test, u_y_pred_bayes_mean)\n",
        "\n",
        "print(f\"Relative training error: {100 * torch.mean(error_train):.2f}\")\n",
        "print(f\"Relative test error: {100 * torch.mean(error_test):.2f}\")"
      ]
    },
    {
      "cell_type": "code",
      "execution_count": null,
      "metadata": {},
      "outputs": [],
      "source": [
        "# Plot a random snapshot\n",
        "\n",
        "idx = 50\n",
        "\n",
        "plt.figure(figsize=(18, 6))\n",
        "vmin, vmay = torch.min(u_y_test), torch.may(u_y_test)\n",
        "plt.subplot(1, 3, 1)\n",
        "fe.plot(u_y_test[idx], V, cmap='jet', vmin=vmin, vmay=vmay, colorbar=True)\n",
        "plt.title(\"True velocity (y-comp.)\")\n",
        "plt.subplot(1, 3, 2)\n",
        "fe.plot(u_y_pred_bayes_mean[idx], V, cmap='jet', vmin=vmin, vmay=vmay, colorbar=True)\n",
        "plt.title(\"Predicted mean velocity (y-comp.)\")\n",
        "plt.subplot(1, 3, 3)\n",
        "fe.plot(u_y_pred_bayes_var[idx], V, cmap='jet', vmin=vmin, vmay=vmay, colorbar=True)\n",
        "plt.title(\"Velocity variance (y-comp.)\")\n",
        "plt.show()"
      ]
    },
    {
      "cell_type": "code",
      "execution_count": null,
      "metadata": {},
      "outputs": [],
      "source": [
        "# Save trainer state\n",
        "\n",
        "u_y_trainer.save_particles(os.path.join('checkpoints', 'u_y_particles.pth'))"
      ]
    },
    {
      "cell_type": "code",
      "execution_count": null,
      "metadata": {},
      "outputs": [],
      "source": []
    }
  ],
  "metadata": {
    "accelerator": "GPU",
    "colab": {
      "gpuType": "T4",
      "provenance": []
    },
    "kernelspec": {
      "display_name": "dlroms-env",
      "language": "python",
      "name": "python3"
    },
    "language_info": {
      "codemirror_mode": {
        "name": "ipython",
        "version": 3
      },
      "file_extension": ".py",
      "mimetype": "text/x-python",
      "name": "python",
      "nbconvert_exporter": "python",
      "pygments_lexer": "ipython3",
      "version": "3.12.2"
    }
  },
  "nbformat": 4,
  "nbformat_minor": 0
}
