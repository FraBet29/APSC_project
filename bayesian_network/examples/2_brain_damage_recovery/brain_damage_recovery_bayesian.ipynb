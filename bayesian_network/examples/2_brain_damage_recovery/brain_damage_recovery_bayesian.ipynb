{
  "cells": [
    {
      "cell_type": "code",
      "execution_count": 2,
      "metadata": {
        "id": "4xgTYsHnV-d9"
      },
      "outputs": [],
      "source": [
        "# Colab setup\n",
        "\n",
        "# from google.colab import drive\n",
        "# drive.mount(\"/content/drive/\")\n",
        "\n",
        "# %cd \"/content/drive/MyDrive/PACS/APSC_project/bayesian_network/examples/2_brain_damage\"\n",
        "\n",
        "# try:\n",
        "#     from dlroms import *\n",
        "# except:\n",
        "#     !pip install git+https://github.com/NicolaRFranco/dlroms.git\n",
        "#     from dlroms import *"
      ]
    },
    {
      "cell_type": "code",
      "execution_count": 1,
      "metadata": {
        "id": "ktGUXOKjJNhu"
      },
      "outputs": [],
      "source": [
        "import os\n",
        "import time\n",
        "import numpy as np\n",
        "import torch\n",
        "import matplotlib.pyplot as plt\n",
        "from dlroms import *\n",
        "import gmsh\n",
        "import sys\n",
        "sys.path.append(os.path.join(\"..\", \"..\", \"dlroms\")) # TODO: better alternative?\n",
        "from bayesian import *"
      ]
    },
    {
      "cell_type": "code",
      "execution_count": 2,
      "metadata": {
        "colab": {
          "base_uri": "https://localhost:8080/"
        },
        "id": "Fck4vXKHGfqd",
        "outputId": "880cbd5d-2397-44f9-ea7e-a2ee115ced00"
      },
      "outputs": [
        {
          "data": {
            "text/plain": [
              "<torch._C.Generator at 0x7f515d38d270>"
            ]
          },
          "execution_count": 2,
          "metadata": {},
          "output_type": "execute_result"
        }
      ],
      "source": [
        "# Setup\n",
        "\n",
        "gmsh.initialize()\n",
        "\n",
        "device = torch.device('cuda:0') if torch.cuda.is_available() else torch.device('cpu')\n",
        "torch.manual_seed(0)\n",
        "\n",
        "args = {\n",
        "\t'mode': 'h2h', # h2h, h2c, c2c\n",
        "\t'output_dir': 'snapshots',\n",
        "\t'checkpoint_dir': 'checkpoints',\n",
        "\t'verbose': True\n",
        "}"
      ]
    },
    {
      "cell_type": "code",
      "execution_count": 4,
      "metadata": {
        "id": "e6VTomc0GpCW"
      },
      "outputs": [],
      "source": [
        "# Domain definition\n",
        "\n",
        "loop = lambda v: np.concatenate((v, v[[0]]))\n",
        "brain = np.load(os.path.join('brain_meshes', 'brainshape.npz'))\n",
        "domain = fe.polygon(loop(brain['main'][::9])) - fe.polygon(loop(brain['hole1'][::9])) - fe.polygon(loop(brain['hole2'][::8]))\n",
        "\n",
        "# Mesh and function space definition\n",
        "\n",
        "if args.mode == 'h2h' or args.mode == 'h2c':\n",
        "\tmesh_H = fe.mesh(domain, stepsize=0.01)\n",
        "\tVh_H = fe.space(mesh_H, 'CG', 1)\n",
        "\th_H, nh_H = mesh_H.hmax(), Vh_H.dim()\n",
        "\n",
        "\t# if args.verbose:\n",
        "\t# \tprint(f\"Stepsize of fine mesh: {h_H:.3f}\")\n",
        "\t# \tprint(f\"Dimension of high-fidelity space: {nh_H}\")\n",
        "\n",
        "if args.mode == 'c2c' or args.mode == 'h2c':\n",
        "\tmesh_C = fe.loadmesh(os.path.join('brain_meshes', 'brain-mesh30.xml'))\n",
        "\tVh_C = fe.space(mesh_C, 'CG', 1)\n",
        "\th_C, nh_C = mesh_C.hmax(), Vh_C.dim()\n",
        "\n",
        "\t# if args.verbose:\n",
        "\t# \tprint(f\"Stepsize of coarse mesh: {h_C:.3f}\")\n",
        "\t# \tprint(f\"Dimension of low-fidelity space: {nh_C}\")"
      ]
    },
    {
      "cell_type": "code",
      "execution_count": 7,
      "metadata": {
        "id": "O9sAc68NKu8O"
      },
      "outputs": [],
      "source": [
        "# Load snapshots\n",
        "\n",
        "path_train = os.path.join('snapshots', 'snapshots_train_' + args.mode + '.npz')\n",
        "if not os.path.exists(path_train):\n",
        "\tprint(f\"Training snapshots not found at {path_train}.\")\n",
        "\texit()\n",
        "data_train = np.load(path_train)\n",
        "N_train = data_train['mu'].shape[0]\n",
        "mu_train, u_train = data_train['mu'].astype(np.float32), data_train['u'].astype(np.float32)\n",
        "mu_train, u_train = torch.tensor(mu_train).to(device), torch.tensor(u_train).to(device)\n",
        "\n",
        "path_test = os.path.join('snapshots', 'snapshots_test_' + args.mode + '.npz')\n",
        "if not os.path.exists(path_test):\n",
        "\tprint(f\"Test snapshots not found at {path_test}.\")\n",
        "\texit()\n",
        "data_test = np.load(path_test)\n",
        "N_test = data_test['mu'].shape[0]\n",
        "mu_test, u_test = data_test['mu'].astype(np.float32), data_test['u'].astype(np.float32)\n",
        "mu_test, u_test = torch.tensor(mu_test).to(device), torch.tensor(u_test).to(device)"
      ]
    },
    {
      "cell_type": "code",
      "execution_count": null,
      "metadata": {
        "id": "g7XVKahzFFgQ"
      },
      "outputs": [],
      "source": [
        "# Bayesian network definition\n",
        "\n",
        "layer_1 = Geodesic(domain, Vh_H, Vh_C, support=0.05) # default activation: leakyReLU\n",
        "layer_2 = Geodesic(domain, Vh_C, Vh_C, support=0.1)\n",
        "layer_3 = Geodesic(domain, Vh_C, Vh_H, support=0.05, activation=None)\n",
        "\n",
        "model = DFNN(layer_1, layer_2, layer_3)\n",
        "\n",
        "if device.type == 'cuda':\n",
        "\tmodel.cuda()\n",
        "else:\n",
        "\tmodel.cpu()\n",
        "\n",
        "model_bayes = Bayesian(model)\n",
        "model_bayes.He()\n",
        "\n",
        "svgd = SVGD(model_bayes, lr=1e-2)"
      ]
    },
    {
      "cell_type": "code",
      "execution_count": null,
      "metadata": {
        "id": "ms6P2o9-MuAp"
      },
      "outputs": [],
      "source": [
        "# Bayesian network training\n",
        "\n",
        "svgd.train(mu_train, u_train, ntrain=int(0.8*N_train), loss=mse(euclidean), epochs=200) # TODO: check ntrain"
      ]
    },
    {
      "cell_type": "code",
      "execution_count": 11,
      "metadata": {
        "id": "4TS4PZ7fu3PB"
      },
      "outputs": [],
      "source": [
        "# Bayesian network evaluation\n",
        "\n",
        "u_pred_bayes_mean, u_pred_bayes_var = model_bayes.predict(mu_test)\n",
        "error_test_mean = torch.norm(u_test - u_pred_bayes_mean, dim=1) / torch.norm(u_test, dim=1)\n",
        "print(f\"Relative test error: {100 * torch.mean(error_test_mean):.2f}%\")"
      ]
    },
    {
      "cell_type": "code",
      "execution_count": 12,
      "metadata": {
        "id": "C0jPm46lu3Rs"
      },
      "outputs": [],
      "source": [
        "# Save figures\n",
        "\n",
        "if not os.path.exists(args.output_dir):\n",
        "\tos.makedirs(args.output_dir)\n",
        "\n",
        "u_pred_bayes_mean, u_pred_bayes_var = u_pred_bayes_mean.detach().cpu().numpy(), u_pred_bayes_var.detach().cpu().numpy()\n",
        "\n",
        "for idx in range(N_test):\n",
        "\tplt.figure(figsize=(16, 5))\n",
        "\tplt.subplot(1, 4, 1)\n",
        "\tplt.title(\"Brain damage\")\n",
        "\tfe.plot(1 + 0 * mu_test[idx], Vh_H, cmap='jet', vmin=0, vmax=1)\n",
        "\tfe.plot(mu_test[idx], Vh_H, cmap='jet')\n",
        "\tplt.subplot(1, 4, 2)\n",
        "\tplt.title(\"True time to recovery\")\n",
        "\tfe.plot(u_test[idx], Vh_H, cmap='jet')\n",
        "\tplt.subplot(1, 4, 3)\n",
        "\tplt.title(\"Predicted time to recovery (mean)\")\n",
        "\tfe.plot(u_pred_bayes_mean[idx], Vh_H, cmap='jet')\n",
        "\tplt.subplot(1, 4, 4)\n",
        "\tplt.title(\"Predicted time to recovery (variance)\")\n",
        "\tfe.plot(u_pred_bayes_var[idx], Vh_H, cmap='jet')\n",
        "\tplt.savefig(os.path.join(args.output_dir, f\"result_{idx}.png\"))"
      ]
    },
    {
      "cell_type": "code",
      "execution_count": null,
      "metadata": {},
      "outputs": [],
      "source": [
        "# TODO: save model"
      ]
    },
    {
      "cell_type": "code",
      "execution_count": null,
      "metadata": {
        "colab": {
          "base_uri": "https://localhost:8080/",
          "height": 430
        },
        "id": "Vqfj5YbNV-eW",
        "outputId": "0d22255e-4d80-48b8-c47c-976d171ac5c0"
      },
      "outputs": [],
      "source": [
        "# from scipy import stats\n",
        "\n",
        "# u_test_np = u_test.cpu().numpy().flatten()\n",
        "# u_pred_bayes_mean_np = u_pred_bayes_mean.cpu().numpy().flatten()\n",
        "\n",
        "# # Create a KDE estimate\n",
        "# kde_u_test = stats.gaussian_kde(u_test_np)\n",
        "# kde_u_pred_bayes_mean = stats.gaussian_kde(u_pred_bayes_mean_np)\n",
        "\n",
        "# x = np.linspace(u_test_np.min(), u_test_np.max(), 1000)\n",
        "# plt.plot(x, kde_u_test(x), label='true')\n",
        "# plt.plot(x, kde_u_pred_bayes_mean(x), label='predicted')\n",
        "# plt.legend()\n",
        "# plt.show()"
      ]
    },
    {
      "cell_type": "code",
      "execution_count": null,
      "metadata": {
        "colab": {
          "base_uri": "https://localhost:8080/",
          "height": 430
        },
        "id": "Ki74VrJkaHdv",
        "outputId": "d6708e83-43b5-48e0-83a5-9f9b369b12c3"
      },
      "outputs": [],
      "source": [
        "# from scipy.stats import norm\n",
        "\n",
        "# u_test_np = u_test.cpu().numpy().flatten()\n",
        "# u_pred_bayes_mean_np = u_pred_bayes_mean.cpu().numpy().flatten()\n",
        "# u_pred_bayes_var_np = u_pred_bayes_var.cpu().numpy().flatten()\n",
        "\n",
        "# quantiles = np.linspace(0, 1, 100)\n",
        "\n",
        "# calibration_curve = np.zeros_like(quantiles)\n",
        "\n",
        "# for i in range(len(u_test_np)):\n",
        "# \tnormal_quantiles = norm.ppf(quantiles, loc=u_pred_bayes_mean_np[i], scale=np.sqrt(u_pred_bayes_var_np[i]))\n",
        "# \tmask = (normal_quantiles > u_test_np[i])\n",
        "# \tcalibration_curve += mask\n",
        "\n",
        "# calibration_curve /= len(u_test_np)\n",
        "\n",
        "# plt.plot(quantiles, calibration_curve)\n",
        "# plt.plot(quantiles, quantiles, '--')\n",
        "# plt.show()"
      ]
    },
    {
      "cell_type": "code",
      "execution_count": null,
      "metadata": {
        "id": "M9-YOe-eaghX"
      },
      "outputs": [],
      "source": []
    }
  ],
  "metadata": {
    "accelerator": "GPU",
    "colab": {
      "gpuType": "T4",
      "provenance": []
    },
    "kernelspec": {
      "display_name": "Python 3",
      "name": "python3"
    },
    "language_info": {
      "codemirror_mode": {
        "name": "ipython",
        "version": 3
      },
      "file_extension": ".py",
      "mimetype": "text/x-python",
      "name": "python",
      "nbconvert_exporter": "python",
      "pygments_lexer": "ipython3",
      "version": "3.11.9"
    }
  },
  "nbformat": 4,
  "nbformat_minor": 0
}
